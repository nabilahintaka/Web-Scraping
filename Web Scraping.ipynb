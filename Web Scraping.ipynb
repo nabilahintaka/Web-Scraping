{
 "cells": [
  {
   "cell_type": "code",
   "execution_count": 43,
   "metadata": {},
   "outputs": [],
   "source": [
    "# Import Library\n",
    "from selenium import webdriver # For web access\n",
    "from bs4 import BeautifulSoup # For HTML parsing\n",
    "import time # To give a pause to the running time\n",
    "import pandas as pd # For data manipulation"
   ]
  },
  {
   "cell_type": "code",
   "execution_count": 44,
   "metadata": {},
   "outputs": [],
   "source": [
    "# Inisialisasi WebDriver\n",
    "driver = webdriver.Chrome() # chrome\n"
   ]
  },
  {
   "cell_type": "code",
   "execution_count": null,
   "metadata": {},
   "outputs": [],
   "source": [
    "Nama_Produk = []\n",
    "Harga_Produk = []\n",
    "Penjual = []\n",
    "Kota_Toko = []\n",
    "Banyaknya_Terjual = []\n",
    "Rating_Produk = []\n",
    "for page in range(1,11): # for pages from range 1-10 // halaman 1-10\n",
    "    driver.get(f'https://www.tokopedia.com/search?navsource=&page={page}&q=seblak&srp_component_id=02.01.00.00&srp_page_id=&srp_page_title=&st=') # take data from tokopedia website\n",
    "    driver.execute_script(\"window.scrollTo(0, document.body.scrollHeight);\") # give a command to scroll the page straight to the bottom\n",
    "    time.sleep(10) #give a 5 second pause before moving the page\n",
    "    html = driver.page_source \n",
    "    soup = BeautifulSoup(html, 'html.parser')\n",
    "    for data in soup.find_all('div', {'class':'css-5wh65g'}): #take all data in soup\n",
    "        try:\n",
    "            Nama_Produk.append(data.find('span', {'class':'_0T8-iGxMpV6NEsYEhwkqEg=='}).get_text()) # fetch all product name data\n",
    "        except:\n",
    "            Nama_Produk.append(None) #diisi none jika tidak ada data\n",
    "        try:\n",
    "            Harga_Produk.append(data.find('div', {'class':'_67d6E1xDKIzw+i2D2L0tjw=='}).get_text()) # retrieve all product price data\n",
    "        except:\n",
    "            Harga_Produk.append(None) #fill in none if there is no data\n",
    "        try:\n",
    "            Penjual.append(data.find('span', {'T0rpy-LEwYNQifsgB-3SQw== pC8DMVkBZGW7-egObcWMFQ== flip'}).get_text()) # retrieve all seller data\n",
    "        except:\n",
    "            Penjual.append(None) #fill in none if there is no data\n",
    "        try:\n",
    "            Kota_Toko.append(data.find('span', {'class':'pC8DMVkBZGW7-egObcWMFQ== flip'}).get_text()) #fetch all store city data\n",
    "        except:\n",
    "            Kota_Toko.append(None) #fill in none if there is no data\n",
    "        try:\n",
    "            Banyaknya_Terjual.append(data.find('span', {'class':'se8WAnkjbVXZNA8mT+Veuw=='}).get_text()) # take all the data on the number of products sold\n",
    "        except:\n",
    "            Banyaknya_Terjual.append(None) #fill in none if there is no data\n",
    "        try:\n",
    "            Rating_Produk.append(data.find('span', {'class':'_9jWGz3C-GX7Myq-32zWG9w=='}).get_text()) #take all rating data\n",
    "        except:\n",
    "            Rating_Produk.append(None)  #fill in none if there is no data      "
   ]
  },
  {
   "cell_type": "code",
   "execution_count": 90,
   "metadata": {},
   "outputs": [
    {
     "data": {
      "text/html": [
       "<div>\n",
       "<style scoped>\n",
       "    .dataframe tbody tr th:only-of-type {\n",
       "        vertical-align: middle;\n",
       "    }\n",
       "\n",
       "    .dataframe tbody tr th {\n",
       "        vertical-align: top;\n",
       "    }\n",
       "\n",
       "    .dataframe thead th {\n",
       "        text-align: right;\n",
       "    }\n",
       "</style>\n",
       "<table border=\"1\" class=\"dataframe\">\n",
       "  <thead>\n",
       "    <tr style=\"text-align: right;\">\n",
       "      <th></th>\n",
       "      <th>Nama Produk</th>\n",
       "      <th>Harga</th>\n",
       "      <th>Penjual</th>\n",
       "      <th>Kota Asal Toko</th>\n",
       "      <th>Rating Produk</th>\n",
       "    </tr>\n",
       "  </thead>\n",
       "  <tbody>\n",
       "    <tr>\n",
       "      <th>0</th>\n",
       "      <td>Kylafood Seblak Cup isi 2 pcs</td>\n",
       "      <td>Rp27.800</td>\n",
       "      <td>kylafood</td>\n",
       "      <td>Bandung</td>\n",
       "      <td>4.8</td>\n",
       "    </tr>\n",
       "    <tr>\n",
       "      <th>1</th>\n",
       "      <td>Seblak Instan Premium Bangsatria</td>\n",
       "      <td>Rp21.000</td>\n",
       "      <td>Foodstocks</td>\n",
       "      <td>Jakarta Selatan</td>\n",
       "      <td>5.0</td>\n",
       "    </tr>\n",
       "    <tr>\n",
       "      <th>2</th>\n",
       "      <td>Kerupuk Bawang Warna 5 Kg (BALL) Kerupuk Sebla...</td>\n",
       "      <td>Rp86.300</td>\n",
       "      <td>Distributor Topping Baso Aci</td>\n",
       "      <td>Bandung</td>\n",
       "      <td>5.0</td>\n",
       "    </tr>\n",
       "    <tr>\n",
       "      <th>3</th>\n",
       "      <td>Kerupuk Seblak Rafael Pedas / Seblak Mawar Ped...</td>\n",
       "      <td>Rp16.000</td>\n",
       "      <td>DUO BOCIL SNACK</td>\n",
       "      <td>Depok</td>\n",
       "      <td>4.9</td>\n",
       "    </tr>\n",
       "    <tr>\n",
       "      <th>4</th>\n",
       "      <td>seblak mantul rindu</td>\n",
       "      <td>Rp10.000</td>\n",
       "      <td>ZalfaBarokah</td>\n",
       "      <td>Bandung</td>\n",
       "      <td>5.0</td>\n",
       "    </tr>\n",
       "    <tr>\n",
       "      <th>...</th>\n",
       "      <td>...</td>\n",
       "      <td>...</td>\n",
       "      <td>...</td>\n",
       "      <td>...</td>\n",
       "      <td>...</td>\n",
       "    </tr>\n",
       "    <tr>\n",
       "      <th>95</th>\n",
       "      <td>cuanki CIPET MINI isi 100pcs toping Baso aci c...</td>\n",
       "      <td>Rp27.999</td>\n",
       "      <td>gaiagarut</td>\n",
       "      <td>Kab. Garut</td>\n",
       "      <td>60+ terjual</td>\n",
       "    </tr>\n",
       "    <tr>\n",
       "      <th>96</th>\n",
       "      <td>KRUPUK / KERUPUK MENTAH / KERUPUK SEBLAK MENTA...</td>\n",
       "      <td>Rp22.000</td>\n",
       "      <td>SuperSnacksShop</td>\n",
       "      <td>Kab. Bandung</td>\n",
       "      <td>60+ terjual</td>\n",
       "    </tr>\n",
       "    <tr>\n",
       "      <th>97</th>\n",
       "      <td>[ENDOSHOPID] 250 Gr Kerupuk Kepang Seblak Cuanki</td>\n",
       "      <td>Rp6.000</td>\n",
       "      <td>Endo Shop ID</td>\n",
       "      <td>Kab. Garut</td>\n",
       "      <td>40+ terjual</td>\n",
       "    </tr>\n",
       "    <tr>\n",
       "      <th>98</th>\n",
       "      <td>SEBLAK KERUPUK BETON / KERUPUK JAAT CIKRUH PED...</td>\n",
       "      <td>Rp9.500</td>\n",
       "      <td>snackmama_medan</td>\n",
       "      <td>Medan</td>\n",
       "      <td>2 terjual</td>\n",
       "    </tr>\n",
       "    <tr>\n",
       "      <th>99</th>\n",
       "      <td>Kerupuk krupuk Orange oren Seblak Ikan Udang M...</td>\n",
       "      <td>Rp5.600</td>\n",
       "      <td>PONCREA-Shop</td>\n",
       "      <td>Kab. Bandung Barat</td>\n",
       "      <td>0</td>\n",
       "    </tr>\n",
       "  </tbody>\n",
       "</table>\n",
       "<p>100 rows × 5 columns</p>\n",
       "</div>"
      ],
      "text/plain": [
       "                                          Nama Produk     Harga  \\\n",
       "0                       Kylafood Seblak Cup isi 2 pcs  Rp27.800   \n",
       "1                    Seblak Instan Premium Bangsatria  Rp21.000   \n",
       "2   Kerupuk Bawang Warna 5 Kg (BALL) Kerupuk Sebla...  Rp86.300   \n",
       "3   Kerupuk Seblak Rafael Pedas / Seblak Mawar Ped...  Rp16.000   \n",
       "4                                 seblak mantul rindu  Rp10.000   \n",
       "..                                                ...       ...   \n",
       "95  cuanki CIPET MINI isi 100pcs toping Baso aci c...  Rp27.999   \n",
       "96  KRUPUK / KERUPUK MENTAH / KERUPUK SEBLAK MENTA...  Rp22.000   \n",
       "97   [ENDOSHOPID] 250 Gr Kerupuk Kepang Seblak Cuanki   Rp6.000   \n",
       "98  SEBLAK KERUPUK BETON / KERUPUK JAAT CIKRUH PED...   Rp9.500   \n",
       "99  Kerupuk krupuk Orange oren Seblak Ikan Udang M...   Rp5.600   \n",
       "\n",
       "                         Penjual      Kota Asal Toko Rating Produk  \n",
       "0                       kylafood             Bandung           4.8  \n",
       "1                     Foodstocks     Jakarta Selatan           5.0  \n",
       "2   Distributor Topping Baso Aci             Bandung           5.0  \n",
       "3                DUO BOCIL SNACK               Depok           4.9  \n",
       "4                   ZalfaBarokah             Bandung           5.0  \n",
       "..                           ...                 ...           ...  \n",
       "95                     gaiagarut          Kab. Garut   60+ terjual  \n",
       "96               SuperSnacksShop        Kab. Bandung   60+ terjual  \n",
       "97                  Endo Shop ID          Kab. Garut   40+ terjual  \n",
       "98               snackmama_medan               Medan     2 terjual  \n",
       "99                  PONCREA-Shop  Kab. Bandung Barat             0  \n",
       "\n",
       "[100 rows x 5 columns]"
      ]
     },
     "execution_count": 90,
     "metadata": {},
     "output_type": "execute_result"
    }
   ],
   "source": [
    "# Cek Length Column\n",
    "len(Nama_Produk),len(Harga_Produk), len(Penjual), len(Kota_Toko), len(Banyaknya_Terjual), len(Rating_Produk)"
   ]
  },
  {
   "cell_type": "code",
   "execution_count": null,
   "metadata": {},
   "outputs": [],
   "source": [
    "# Create dataframe\n",
    "df = pd.DataFrame({\n",
    "                'Nama Produk': Nama_Produk,\n",
    "                'Harga': Harga_Produk,\n",
    "                'Penjual': Penjual,\n",
    "                'Kota': Kota_Toko,\n",
    "                'Terjual': Banyaknya_Terjual,\n",
    "                'Rating': Rating_Produk\n",
    "})\n",
    "df.head(10)"
   ]
  },
  {
   "cell_type": "code",
   "execution_count": 97,
   "metadata": {},
   "outputs": [
    {
     "name": "stdout",
     "output_type": "stream",
     "text": [
      "   harga\n",
      "0  11999\n",
      "1  55600\n",
      "2  19700\n",
      "3  81400\n",
      "4  34999\n",
      "5  27999\n",
      "6  22000\n",
      "7   6000\n",
      "8   9500\n",
      "9   5600\n"
     ]
    }
   ],
   "source": [
    "#Check top 10 data\n",
    "df.head(10)"
   ]
  },
  {
   "cell_type": "code",
   "execution_count": null,
   "metadata": {},
   "outputs": [],
   "source": [
    "#Check data information\n",
    "df.info()"
   ]
  },
  {
   "cell_type": "code",
   "execution_count": null,
   "metadata": {},
   "outputs": [],
   "source": [
    "# Menghapus \"Rp\" dan \".\" pada kolom \"Harga\"\n",
    "df['Harga'] = df['Harga'].str.replace('\\D', '', regex=True)"
   ]
  },
  {
   "cell_type": "code",
   "execution_count": null,
   "metadata": {},
   "outputs": [],
   "source": [
    "#Check data after deletion\n",
    "df.head(10)"
   ]
  },
  {
   "cell_type": "code",
   "execution_count": null,
   "metadata": {},
   "outputs": [],
   "source": [
    "# Mengganti Tipe Data Object to Integer\n",
    "df['Harga'] = df['Harga'].fillna('0')  #Replace NaN with '0' if present\n",
    "df['Harga'] = df['Harga'].astype(int)"
   ]
  },
  {
   "cell_type": "code",
   "execution_count": null,
   "metadata": {},
   "outputs": [],
   "source": [
    "# Cek kembali tipe data\n",
    "df.info()"
   ]
  },
  {
   "cell_type": "code",
   "execution_count": null,
   "metadata": {},
   "outputs": [],
   "source": [
    "# Membersihkan kolom \"Terjual\"\n",
    "df[\"Terjual\"] = (\n",
    "    df[\"Terjual\"]\n",
    "    .str.replace(\"terjual\", \"\", regex=False)  #Remove the word \"sold\"\n",
    "    .str.replace(r\"[+]\", \"\", regex=True)     #Remove the \"+\"\n" sign,
    "    .str.replace(r\"rb\", \"000\", regex=True)  #Replace \"rb\" with \"000\"\n",
    ")"
   ]
  },
  {
   "cell_type": "code",
   "execution_count": null,
   "metadata": {},
   "outputs": [],
   "source": [
    "# Mengganti Tipe Data Object to Integer\n",
    "df['Terjual'] = df['Terjual'].fillna('0')  #Replace NaN with '0' if present\n",
    "df['Terjual'] = df['Terjual'].astype(int)"
   ]
  },
  {
   "cell_type": "code",
   "execution_count": null,
   "metadata": {},
   "outputs": [],
   "source": [
    "# Cek tipe data\n",
    "df.info()"
   ]
  }
 ],
 "metadata": {
  "kernelspec": {
   "display_name": "Python 3",
   "language": "python",
   "name": "python3"
  },
  "language_info": {
   "codemirror_mode": {
    "name": "ipython",
    "version": 3
   },
   "file_extension": ".py",
   "mimetype": "text/x-python",
   "name": "python",
   "nbconvert_exporter": "python",
   "pygments_lexer": "ipython3",
   "version": "3.11.9"
  }
 },
 "nbformat": 4,
 "nbformat_minor": 2
}
